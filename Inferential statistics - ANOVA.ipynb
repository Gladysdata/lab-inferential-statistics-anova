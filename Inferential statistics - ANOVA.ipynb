{
 "cells": [
  {
   "cell_type": "markdown",
   "id": "1ee51623",
   "metadata": {},
   "source": [
    "# Lab | Inferential statistics - ANOVA"
   ]
  },
  {
   "cell_type": "markdown",
   "id": "49a334b0",
   "metadata": {},
   "source": [
    "## Part 1\n",
    "\n",
    "In this activity, we will look at another example. Your task is to understand the problem and write down all the steps to set up ANOVA. After the next lesson, we will ask you to solve this problem using Python. Here are the steps that you would need to work on: - Null hypothesis - Alternate hypothesis - Level of significance - Test statistic - P-value - F table"
   ]
  },
  {
   "cell_type": "markdown",
   "id": "5cce825a",
   "metadata": {},
   "source": [
    "## Context\n",
    "\n",
    "Suppose you are working as an analyst in a microprocessor chip manufacturing plant. You have been given the task of analyzing a plasma etching process with respect to changing Power (in Watts) of the plasma beam. Data was collected and provided to you to conduct statistical analysis and check if changing the power of the plasma beam has any effect on the etching rate by the machine. You will conduct ANOVA and check if there is any difference in the mean etching rate for different levels of power. You can find the data anova_lab_data.xlsx file in the files_for_lab folder\n",
    "\n",
    "- State the null hypothesis\n",
    "- State the alternate hypothesis\n",
    "- What is the significance level\n",
    "- What are the degrees of freedom of model, error terms, and total DoF\n",
    "\n",
    "Data was collected randomly and provided to you in the table as shown: link to the image - Data"
   ]
  },
  {
   "cell_type": "markdown",
   "id": "40d44ddd",
   "metadata": {},
   "source": [
    "- Importing the libraries"
   ]
  },
  {
   "cell_type": "code",
   "execution_count": 10,
   "id": "2fc68100",
   "metadata": {},
   "outputs": [],
   "source": [
    "import pandas as pd\n",
    "import numpy as np\n",
    "from scipy import stats\n",
    "import statsmodels.api as sm\n",
    "from statsmodels.formula.api import ols\n",
    "\n",
    "import warnings\n",
    "warnings.filterwarnings('ignore')"
   ]
  },
  {
   "cell_type": "markdown",
   "id": "fc50a185",
   "metadata": {},
   "source": [
    "- Loading the data"
   ]
  },
  {
   "cell_type": "code",
   "execution_count": 2,
   "id": "0cecaedb",
   "metadata": {},
   "outputs": [
    {
     "name": "stdout",
     "output_type": "stream",
     "text": [
      "   Power   Etching Rate\n",
      "0   160 W          5.43\n",
      "1   180 W          6.24\n",
      "2   200 W          8.79\n",
      "3   160 W          5.71\n",
      "4   180 W          6.71\n",
      "5   200 W          9.20\n",
      "6   160 W          6.22\n",
      "7   180 W          5.98\n",
      "8   200 W          7.90\n",
      "9   160 W          6.01\n",
      "10  180 W          5.66\n",
      "11  200 W          8.15\n",
      "12  160 W          5.59\n",
      "13  180 W          6.60\n",
      "14  200 W          7.55\n"
     ]
    }
   ],
   "source": [
    "df = pd.read_excel('anova_lab_data.xlsx')\n",
    "print (df)"
   ]
  },
  {
   "cell_type": "code",
   "execution_count": 7,
   "id": "047d8e41",
   "metadata": {},
   "outputs": [],
   "source": [
    "#removing the space\n",
    "df.columns = df.columns.str.replace(' ', '')"
   ]
  },
  {
   "cell_type": "code",
   "execution_count": 8,
   "id": "c3d00203",
   "metadata": {},
   "outputs": [
    {
     "name": "stdout",
     "output_type": "stream",
     "text": [
      "   Power_  Etching_Rate\n",
      "0   160 W          5.43\n",
      "1   180 W          6.24\n",
      "2   200 W          8.79\n",
      "3   160 W          5.71\n",
      "4   180 W          6.71\n",
      "5   200 W          9.20\n",
      "6   160 W          6.22\n",
      "7   180 W          5.98\n",
      "8   200 W          7.90\n",
      "9   160 W          6.01\n",
      "10  180 W          5.66\n",
      "11  200 W          8.15\n",
      "12  160 W          5.59\n",
      "13  180 W          6.60\n",
      "14  200 W          7.55\n"
     ]
    }
   ],
   "source": [
    "print (df)"
   ]
  },
  {
   "cell_type": "markdown",
   "id": "907a8fd1",
   "metadata": {},
   "source": [
    "- State the null hypothesis"
   ]
  },
  {
   "cell_type": "markdown",
   "id": "5633f439",
   "metadata": {},
   "source": [
    "The null is that changing the power of the bean does not have effect on the mean etching rate"
   ]
  },
  {
   "cell_type": "markdown",
   "id": "98bc2a79",
   "metadata": {},
   "source": [
    "- State the alternate hypothesis"
   ]
  },
  {
   "cell_type": "markdown",
   "id": "601ffd5c",
   "metadata": {},
   "source": [
    "The alternate is that changing the power of the bean has an effect this time"
   ]
  },
  {
   "cell_type": "markdown",
   "id": "f4ac567b",
   "metadata": {},
   "source": [
    "- What is the significance level"
   ]
  },
  {
   "cell_type": "markdown",
   "id": "ee52e155",
   "metadata": {},
   "source": [
    "The standard is α = 0.05, which signifies a 5% chance of error"
   ]
  },
  {
   "cell_type": "markdown",
   "id": "73b2a1eb",
   "metadata": {},
   "source": [
    "- What are the degrees of freedom of model, error terms, and total DoF"
   ]
  },
  {
   "cell_type": "markdown",
   "id": "c07ad383",
   "metadata": {},
   "source": [
    "Degrees of freedom model : for x number of compared objects, we have to do x-1, so in this case 2 because we have 3 power levels (160, 180, 200)"
   ]
  },
  {
   "cell_type": "markdown",
   "id": "c463413c",
   "metadata": {},
   "source": [
    "Error terms : the number of notes, here 15, minus x, the number of compared objects, so 12"
   ]
  },
  {
   "cell_type": "markdown",
   "id": "ae0a6292",
   "metadata": {},
   "source": [
    "Total DoF : the number of notes minus 1, so here 14"
   ]
  },
  {
   "cell_type": "markdown",
   "id": "716f0884",
   "metadata": {},
   "source": [
    "## Part 2"
   ]
  },
  {
   "cell_type": "markdown",
   "id": "e4895931",
   "metadata": {},
   "source": [
    "- In this section, use Python to conduct ANOVA.\n",
    "- What conclusions can you draw from the experiment and why?"
   ]
  },
  {
   "cell_type": "code",
   "execution_count": 11,
   "id": "1e156342",
   "metadata": {},
   "outputs": [],
   "source": [
    "df = pd.DataFrame({\n",
    "    'Power': ['160 W', '180 W', '200 W', '160 W', '180 W', '200 W', '160 W', '180 W', '200 W', '160 W', '180 W', '200 W', '160 W', '180 W', '200 W'],\n",
    "    'Etching_Rate': [5.43, 6.24, 8.79, 5.71, 6.71, 9.20, 6.22, 5.98, 7.90, 6.01, 5.66, 8.15, 5.59, 6.60, 7.55]\n",
    "})"
   ]
  },
  {
   "cell_type": "code",
   "execution_count": 13,
   "id": "c250fb25",
   "metadata": {},
   "outputs": [],
   "source": [
    "#anova\n",
    "model = ols('Etching_Rate ~ C(Power)', data=df).fit()\n",
    "anova = sm.stats.anova_lm(model)"
   ]
  },
  {
   "cell_type": "code",
   "execution_count": 14,
   "id": "6995b359",
   "metadata": {},
   "outputs": [
    {
     "name": "stdout",
     "output_type": "stream",
     "text": [
      "            df     sum_sq   mean_sq          F    PR(>F)\n",
      "C(Power)   2.0  18.176653  9.088327  36.878955  0.000008\n",
      "Residual  12.0   2.957240  0.246437        NaN       NaN\n"
     ]
    }
   ],
   "source": [
    "print(anova)"
   ]
  },
  {
   "cell_type": "markdown",
   "id": "6f45d9ed",
   "metadata": {},
   "source": [
    "We can see that  changing the power of the plasma beam has a significant effect on the mean etching rate. The p-value is 0.000008 so less than our significance level. We can therefore reject the null. "
   ]
  },
  {
   "cell_type": "code",
   "execution_count": null,
   "id": "f95877a8",
   "metadata": {},
   "outputs": [],
   "source": []
  }
 ],
 "metadata": {
  "kernelspec": {
   "display_name": "Python 3 (ipykernel)",
   "language": "python",
   "name": "python3"
  },
  "language_info": {
   "codemirror_mode": {
    "name": "ipython",
    "version": 3
   },
   "file_extension": ".py",
   "mimetype": "text/x-python",
   "name": "python",
   "nbconvert_exporter": "python",
   "pygments_lexer": "ipython3",
   "version": "3.10.9"
  }
 },
 "nbformat": 4,
 "nbformat_minor": 5
}
